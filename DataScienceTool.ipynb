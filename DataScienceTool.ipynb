{
 "cells": [
  {
   "cell_type": "markdown",
   "id": "a2d387b5-725b-41bd-a8d4-40fd82cacf1a",
   "metadata": {
    "panel-layout": {
     "height": 51.1406,
     "visible": true,
     "width": 100
    }
   },
   "source": [
    "# Data Science Tools and Ecosystem"
   ]
  },
  {
   "cell_type": "markdown",
   "id": "22b20fd8-ae39-42bb-adae-906bd914db7f",
   "metadata": {},
   "source": [
    "In this notebook, Data Science Tools and Ecosystem are summarized."
   ]
  },
  {
   "cell_type": "markdown",
   "id": "b6af7c8b-b343-42c4-b8bb-65b5f8afdb3d",
   "metadata": {},
   "source": [
    "Some of the popular languages that Data Scientists use are:\n",
    "\n",
    "1) Python\n",
    "2) R\n",
    "3) SQL\n",
    "4) Julia\n",
    "5) Scala"
   ]
  },
  {
   "cell_type": "markdown",
   "id": "46f457b7-1c36-4dc1-ac35-8e7f782939c5",
   "metadata": {},
   "source": [
    "Some of the commonly used libraries used by Data Scientists include:\n",
    "\n",
    "1) NumPy\n",
    "2) Pandas\n",
    "3) Matplotlib\n",
    "4) Scikit-learn\n",
    "5) Tensorflow"
   ]
  },
  {
   "cell_type": "markdown",
   "id": "a8214130-c0b8-45fd-84b1-2621d5880a8a",
   "metadata": {},
   "source": [
    "|Data Science Tools|\n",
    "|--|\n",
    "|Jupyter Notebook|\n",
    "|RStudio|\n",
    "|VS Code|"
   ]
  },
  {
   "cell_type": "markdown",
   "id": "fab1499b-4f3b-44f2-85c0-6159f6c6de00",
   "metadata": {},
   "source": [
    "### Below are a few examples of evaluating arithmetic expressions in Python"
   ]
  },
  {
   "cell_type": "code",
   "execution_count": 1,
   "id": "c1cf805c-e106-48c9-a539-40262898420d",
   "metadata": {},
   "outputs": [
    {
     "data": {
      "text/plain": [
       "15"
      ]
     },
     "execution_count": 1,
     "metadata": {},
     "output_type": "execute_result"
    }
   ],
   "source": [
    "# This is a simple arithmetic expression to multiply then add integers\n",
    "(2*5)+5"
   ]
  },
  {
   "cell_type": "code",
   "execution_count": 2,
   "id": "e6246362-3032-4c7a-96ae-5030b8e9e3f1",
   "metadata": {},
   "outputs": [
    {
     "data": {
      "text/plain": [
       "3.3333333333333335"
      ]
     },
     "execution_count": 2,
     "metadata": {},
     "output_type": "execute_result"
    }
   ],
   "source": [
    "# This will convert 200 minutes to hours by diving by 60\n",
    "200/60"
   ]
  },
  {
   "cell_type": "markdown",
   "id": "a84a5919-c3fc-4363-b6a8-df47d8961bda",
   "metadata": {},
   "source": [
    "## Objectives:\n",
    "\n",
    "1. Listing popular languages for Data Science\n",
    "2. Listing common used libraries used by Data Scientists\n",
    "3. Tabulate data science tools\n",
    "4. Evaluate arithmetic expressions"
   ]
  },
  {
   "cell_type": "markdown",
   "id": "fb4a6dd1-12d0-48db-b3a4-370325006e1b",
   "metadata": {},
   "source": [
    "### Author: \n",
    "Monika Pathak"
   ]
  },
  {
   "cell_type": "code",
   "execution_count": null,
   "id": "c10b4bd4-19c5-4a24-88fb-65813c4acafb",
   "metadata": {},
   "outputs": [],
   "source": []
  }
 ],
 "metadata": {
  "kernelspec": {
   "display_name": "Python [conda env:base] *",
   "language": "python",
   "name": "conda-base-py"
  },
  "language_info": {
   "codemirror_mode": {
    "name": "ipython",
    "version": 3
   },
   "file_extension": ".py",
   "mimetype": "text/x-python",
   "name": "python",
   "nbconvert_exporter": "python",
   "pygments_lexer": "ipython3",
   "version": "3.13.5"
  },
  "panel-cell-order": [
   "a2d387b5-725b-41bd-a8d4-40fd82cacf1a"
  ]
 },
 "nbformat": 4,
 "nbformat_minor": 5
}
